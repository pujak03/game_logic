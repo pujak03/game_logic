{
 "cells": [
  {
   "cell_type": "code",
   "execution_count": null,
   "metadata": {},
   "outputs": [
    {
     "name": "stdout",
     "output_type": "stream",
     "text": [
      "How many games would you like to play?6\n",
      "pick a number:2\n",
      "Too low\n",
      "pick a number:1\n",
      "Too low\n",
      "pick a number:3\n",
      "Too low\n",
      "pick a number:4\n",
      "Too low\n",
      "pick a number:5\n",
      "Too low\n",
      "pick a number:6\n",
      "Too low\n",
      "pick a number:7\n",
      "Too low\n",
      "pick a number:8\n",
      "Too low\n",
      "pick a number:9\n",
      "Too low\n",
      "pick a number:10\n",
      "Too low\n",
      "pick a number:11\n",
      "Too low\n",
      "pick a number:12\n",
      "Too low\n",
      "pick a number:13\n",
      "Too low\n",
      "pick a number:14\n",
      "Too low\n",
      "pick a number:15\n",
      "Too low\n",
      "pick a number:16\n",
      "Too low\n",
      "pick a number:17\n",
      "Too low\n",
      "pick a number:18\n",
      "Too low\n",
      "pick a number:19\n",
      "Too low\n",
      "pick a number:20\n",
      "Too low\n",
      "pick a number:21\n",
      "Too low\n",
      "pick a number:22\n",
      "Too low\n",
      "pick a number:23\n",
      "Too low\n",
      "pick a number:2\n",
      "Too low\n",
      "pick a number:4\n",
      "Too low\n",
      "pick a number:25\n",
      "Correct: It took you this many guesses: %s  25\n",
      "pick a number:26\n",
      "Correct: It took you this many guesses: %s  0\n"
     ]
    }
   ],
   "source": [
    "## Guessing game\n",
    "import random\n",
    "games=\" \"\n",
    "while games==\" \":\n",
    "    try:\n",
    "        games=int(input(\"How many games would you like to play?\"))\n",
    "    except:\n",
    "        print(\"Please select using a number\")\n",
    "for game in range(0,games):\n",
    "    pick=random.randint(1,26)\n",
    "    guess=None\n",
    "    attempts=0\n",
    "    while pick!=guess:\n",
    "        try:\n",
    "            guess=int(input(\"pick a number:\"))\n",
    "        except:\n",
    "            print(\"please select a number.\")\n",
    "            continue\n",
    "        if guess!=pick:\n",
    "            attempts+=1\n",
    "            if guess>pick:\n",
    "                print(\"Too high\")\n",
    "            else:\n",
    "                print(\"Too low\")\n",
    "        else:\n",
    "            print(\"Correct: It took you this many guesses: %s \",attempts)"
   ]
  },
  {
   "cell_type": "code",
   "execution_count": null,
   "metadata": {},
   "outputs": [],
   "source": []
  }
 ],
 "metadata": {
  "kernelspec": {
   "display_name": "Python 3",
   "language": "python",
   "name": "python3"
  },
  "language_info": {
   "codemirror_mode": {
    "name": "ipython",
    "version": 3
   },
   "file_extension": ".py",
   "mimetype": "text/x-python",
   "name": "python",
   "nbconvert_exporter": "python",
   "pygments_lexer": "ipython3",
   "version": "3.7.3"
  }
 },
 "nbformat": 4,
 "nbformat_minor": 2
}
